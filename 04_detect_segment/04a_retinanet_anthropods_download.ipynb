{
 "cells": [
  {
   "cell_type": "markdown",
   "id": "3b9a223d-4739-4cb3-ab53-d45c1612f108",
   "metadata": {},
   "source": [
    "# Arthropodデータのダウンロード"
   ]
  },
  {
   "cell_type": "code",
   "execution_count": 1,
   "id": "edb85374-7056-4479-a31e-b827548fc43a",
   "metadata": {},
   "outputs": [
    {
     "name": "stdout",
     "output_type": "stream",
     "text": [
      "Collecting kaggle\n",
      "  Downloading kaggle-1.5.12.tar.gz (58 kB)\n",
      "\u001b[2K     \u001b[90m━━━━━━━━━━━━━━━━━━━━━━━━━━━━━━━━━━━━━━━━\u001b[0m \u001b[32m59.0/59.0 KB\u001b[0m \u001b[31m3.3 MB/s\u001b[0m eta \u001b[36m0:00:00\u001b[0m\n",
      "\u001b[?25h  Preparing metadata (setup.py) ... \u001b[?25ldone\n",
      "\u001b[?25hRequirement already satisfied: six>=1.10 in /opt/conda/lib/python3.7/site-packages (from kaggle) (1.16.0)\n",
      "Requirement already satisfied: certifi in /opt/conda/lib/python3.7/site-packages (from kaggle) (2021.10.8)\n",
      "Requirement already satisfied: python-dateutil in /opt/conda/lib/python3.7/site-packages (from kaggle) (2.8.2)\n",
      "Requirement already satisfied: requests in /opt/conda/lib/python3.7/site-packages (from kaggle) (2.27.1)\n",
      "Requirement already satisfied: tqdm in /opt/conda/lib/python3.7/site-packages (from kaggle) (4.63.0)\n",
      "Requirement already satisfied: python-slugify in /opt/conda/lib/python3.7/site-packages (from kaggle) (6.1.1)\n",
      "Requirement already satisfied: urllib3 in /opt/conda/lib/python3.7/site-packages (from kaggle) (1.26.8)\n",
      "Requirement already satisfied: text-unidecode>=1.3 in /opt/conda/lib/python3.7/site-packages (from python-slugify->kaggle) (1.3)\n",
      "Requirement already satisfied: idna<4,>=2.5 in /opt/conda/lib/python3.7/site-packages (from requests->kaggle) (3.3)\n",
      "Requirement already satisfied: charset-normalizer~=2.0.0 in /opt/conda/lib/python3.7/site-packages (from requests->kaggle) (2.0.12)\n",
      "Building wheels for collected packages: kaggle\n",
      "  Building wheel for kaggle (setup.py) ... \u001b[?25ldone\n",
      "\u001b[?25h  Created wheel for kaggle: filename=kaggle-1.5.12-py3-none-any.whl size=73051 sha256=0d13c178e333d9648707864f1ec43cf1e77aab8cbe1a9e8418545b4e0ed45332\n",
      "  Stored in directory: /home/jupyter/.cache/pip/wheels/62/d6/58/5853130f941e75b2177d281eb7e44b4a98ed46dd155f556dc5\n",
      "Successfully built kaggle\n",
      "Installing collected packages: kaggle\n",
      "\u001b[33m  WARNING: The script kaggle is installed in '/home/jupyter/.local/bin' which is not on PATH.\n",
      "  Consider adding this directory to PATH or, if you prefer to suppress this warning, use --no-warn-script-location.\u001b[0m\u001b[33m\n",
      "\u001b[0mSuccessfully installed kaggle-1.5.12\n"
     ]
    }
   ],
   "source": [
    "!pip install --user --upgrade kaggle"
   ]
  },
  {
   "cell_type": "code",
   "execution_count": 2,
   "id": "49495951-6833-4377-becd-4b77feb49ce2",
   "metadata": {},
   "outputs": [
    {
     "data": {
      "text/plain": [
       "{'status': 'ok', 'restart': True}"
      ]
     },
     "execution_count": 2,
     "metadata": {},
     "output_type": "execute_result"
    }
   ],
   "source": [
    "import IPython\n",
    "\n",
    "IPython.Application.instance().kernel.do_shutdown(True) #automatically restarts kernel"
   ]
  },
  {
   "cell_type": "markdown",
   "id": "1bb99ae1-80a4-445b-a2eb-eab7015f355c",
   "metadata": {},
   "source": [
    "## KaggleでAPIキーを作成する  \n",
    "* https://www.kaggle.com/ へ登録、もしくはログインし、\"Account\"ページにアクセス\n",
    "* \"Create New API Token\"をクリック\n",
    "* ダウンロードしたkaggle.jsonをこのディレクトリにアップロード"
   ]
  },
  {
   "cell_type": "code",
   "execution_count": 6,
   "id": "018c36f6-3723-490e-903e-1b89d97d96f5",
   "metadata": {},
   "outputs": [
    {
     "name": "stdout",
     "output_type": "stream",
     "text": [
      "./kaggle.json\n"
     ]
    }
   ],
   "source": [
    "!ls ./kaggle.json"
   ]
  },
  {
   "cell_type": "code",
   "execution_count": 7,
   "id": "d6f3c560-0137-4dcc-869b-7b7ec659bced",
   "metadata": {},
   "outputs": [],
   "source": [
    "import os\n",
    "current_dir=!pwd\n",
    "current_dir=current_dir[0]\n",
    "os.environ['KAGGLE_CONFIG_DIR']=current_dir"
   ]
  },
  {
   "cell_type": "code",
   "execution_count": 8,
   "id": "4d7426c2-6f56-4efe-bde0-418dede06b24",
   "metadata": {},
   "outputs": [
    {
     "name": "stdout",
     "output_type": "stream",
     "text": [
      "Warning: Your Kaggle API key is readable by other users on this system! To fix this, you can run 'chmod 600 /home/jupyter/practical-ml-vision-book-ja/04_detect_segment/kaggle.json'\n",
      "Downloading arthropod-taxonomy-orders-object-detection-dataset.zip to /home/jupyter/practical-ml-vision-book-ja/04_detect_segment\n",
      "100%|██████████████████████████████████████▉| 11.1G/11.1G [01:24<00:00, 121MB/s]\n",
      "100%|███████████████████████████████████████| 11.1G/11.1G [01:24<00:00, 141MB/s]\n"
     ]
    }
   ],
   "source": [
    "!${HOME}/.local/bin/kaggle datasets download mistag/arthropod-taxonomy-orders-object-detection-dataset"
   ]
  },
  {
   "cell_type": "code",
   "execution_count": 9,
   "id": "46a0bda9-757e-423f-a32e-8d8d4aa775d7",
   "metadata": {},
   "outputs": [],
   "source": [
    "!unzip -q *dataset.zip"
   ]
  },
  {
   "cell_type": "markdown",
   "id": "278a76ee-14f8-4f24-a1be-619104918a0e",
   "metadata": {},
   "source": [
    "完了したら、以下のノートブックを順番に実行してください\n",
    "* 04aa_retinanet_arthropods_dataprep.ipynb\n",
    "* 04ab_retinanet_arthropods_train.ipynb\n",
    "* 04ac_retinanet_arthropods_predict.ipynb"
   ]
  },
  {
   "cell_type": "markdown",
   "id": "439618be-3050-4df0-afd2-42b21b162864",
   "metadata": {},
   "source": [
    "## License\n",
    "Copyright 2022 Google Inc. Licensed under the Apache License, Version 2.0 (the \"License\"); you may not use this file except in compliance with the License. You may obtain a copy of the License at http://www.apache.org/licenses/LICENSE-2.0 Unless required by applicable law or agreed to in writing, software distributed under the License is distributed on an \"AS IS\" BASIS, WITHOUT WARRANTIES OR CONDITIONS OF ANY KIND, either express or implied. See the License for the specific language governing permissions and limitations under the License."
   ]
  },
  {
   "cell_type": "code",
   "execution_count": null,
   "id": "80982d44-900d-4d84-b7ee-bfecbe38bbb7",
   "metadata": {},
   "outputs": [],
   "source": []
  }
 ],
 "metadata": {
  "environment": {
   "kernel": "python3",
   "name": "tf2-cpu.2-8.m91",
   "type": "gcloud",
   "uri": "gcr.io/deeplearning-platform-release/tf2-cpu.2-8:m91"
  },
  "kernelspec": {
   "display_name": "Python 3",
   "language": "python",
   "name": "python3"
  },
  "language_info": {
   "codemirror_mode": {
    "name": "ipython",
    "version": 3
   },
   "file_extension": ".py",
   "mimetype": "text/x-python",
   "name": "python",
   "nbconvert_exporter": "python",
   "pygments_lexer": "ipython3",
   "version": "3.7.12"
  }
 },
 "nbformat": 4,
 "nbformat_minor": 5
}
