{
 "cells": [
  {
   "cell_type": "code",
   "execution_count": 1,
   "id": "662ca8e7-5c39-4a64-9133-ac0a973eb158",
   "metadata": {},
   "outputs": [
    {
     "data": {
      "text/markdown": [
       "<table class=\"tfo-notebook-buttons\" align=\"left\"><td><a target=\"_blank\" href=\"https://console.cloud.google.com/vertex-ai/workbench/deploy-notebook?name=Posenet+Demo&download_url=https%3A%2F%2Fgithub.com%2Ftakumiohym%2Fpractical-ml-vision-book-ja%2Fraw%2Fmaster%2F11_adv_problems%2F11b_posenet.ipynb\"><img src=\"https://raw.githubusercontent.com/GoogleCloudPlatform/practical-ml-vision-book/master/logo-cloud.png\"/>Run in Vertex AI Workbench</a></td><td><a target=\"_blank\" href=\"https://colab.research.google.com/github/takumiohym/practical-ml-vision-book-ja/blob/master/11_adv_problems/11b_posenet.ipynb\"><img src=\"https://www.tensorflow.org/images/colab_logo_32px.png\" />Run in Google Colab</a></td><td><a target=\"_blank\" href=\"https://github.com/takumiohym/practical-ml-vision-book-ja/blob/master/11_adv_problems/11b_posenet.ipynb\"><img src=\"https://www.tensorflow.org/images/GitHub-Mark-32px.png\" />View source on GitHub</a></td><td><a href=\"https://raw.githubusercontent.com/takumiohym/practical-ml-vision-book-ja/master/11_adv_problems/11b_posenet.ipynb\"><img src=\"https://www.tensorflow.org/images/download_logo_32px.png\" />Download notebook</a></td></table><br/><br/>"
      ],
      "text/plain": [
       "<IPython.core.display.Markdown object>"
      ]
     },
     "execution_count": 1,
     "metadata": {},
     "output_type": "execute_result"
    }
   ],
   "source": [
    "import urllib\n",
    "from IPython.display import Markdown as md\n",
    "\n",
    "### change to reflect your notebook\n",
    "_nb_loc = \"11_adv_problems/11b_posenet.ipynb\"\n",
    "_nb_title = \"Posenet Demo\"\n",
    "_icons=[\"https://raw.githubusercontent.com/GoogleCloudPlatform/practical-ml-vision-book/master/logo-cloud.png\", \"https://www.tensorflow.org/images/colab_logo_32px.png\", \"https://www.tensorflow.org/images/GitHub-Mark-32px.png\", \"https://www.tensorflow.org/images/download_logo_32px.png\"]\n",
    "_links=[\"https://console.cloud.google.com/vertex-ai/workbench/deploy-notebook?\" + urllib.parse.urlencode({\"name\": _nb_title, \"download_url\": \"https://github.com/takumiohym/practical-ml-vision-book-ja/raw/master/\"+_nb_loc}), \"https://colab.research.google.com/github/takumiohym/practical-ml-vision-book-ja/blob/master/{0}\".format(_nb_loc), \"https://github.com/takumiohym/practical-ml-vision-book-ja/blob/master/{0}\".format(_nb_loc), \"https://raw.githubusercontent.com/takumiohym/practical-ml-vision-book-ja/master/{0}\".format(_nb_loc)]\n",
    "md(\"\"\"<table class=\"tfo-notebook-buttons\" align=\"left\"><td><a target=\"_blank\" href=\"{0}\"><img src=\"{4}\"/>Run in Vertex AI Workbench</a></td><td><a target=\"_blank\" href=\"{1}\"><img src=\"{5}\" />Run in Google Colab</a></td><td><a target=\"_blank\" href=\"{2}\"><img src=\"{6}\" />View source on GitHub</a></td><td><a href=\"{3}\"><img src=\"{7}\" />Download notebook</a></td></table><br/><br/>\"\"\".format(_links[0], _links[1], _links[2], _links[3], _icons[0], _icons[1], _icons[2], _icons[3]))"
   ]
  },
  {
   "cell_type": "markdown",
   "id": "b89cbf65-01bf-485f-ab26-db755acd9127",
   "metadata": {},
   "source": [
    "# PoseNetによる姿勢推定のデモ"
   ]
  },
  {
   "cell_type": "markdown",
   "id": "0239e8da-794d-4408-951d-f4da5eef1ebe",
   "metadata": {},
   "source": [
    "## 環境設定\n",
    "以下に使用するプロジェクト名を入力してください。"
   ]
  },
  {
   "cell_type": "code",
   "execution_count": 2,
   "id": "2bb5ce8b-8b6f-454f-aa64-dacfd7d5f431",
   "metadata": {},
   "outputs": [],
   "source": [
    "PROJECT = 'PROJECT_NAME'"
   ]
  },
  {
   "cell_type": "markdown",
   "id": "d6a3f8f3-6e9e-4fea-9b18-ac80eec4faea",
   "metadata": {},
   "source": [
    "Colab環境を利用する場合、以下で必要なファイルのダウンロード、プロジェクトの設定を行ってください。"
   ]
  },
  {
   "cell_type": "code",
   "execution_count": 3,
   "id": "208d9414-b0a0-4b76-adc6-7aeb5676f4a7",
   "metadata": {},
   "outputs": [],
   "source": [
    "import os\n",
    "\n",
    "IS_COLAB_BACKEND = 'COLAB_RELEASE_TAG' in os.environ  # this is always set on Colab\n",
    "if IS_COLAB_BACKEND:\n",
    "    # Get files\n",
    "    BASE_PATH = \"https://raw.githubusercontent.com/takumiohym/practical-ml-vision-book-ja/main/11_adv_problems\"\n",
    "    !wget {BASE_PATH}/11b_posenet/posenet.html -P 11b_posenet/\n",
    "    !wget {BASE_PATH}/11b_posenet/bowling.jpg -P 11b_posenet/\n",
    "\n",
    "    !gcloud config set project {PROJECT}"
   ]
  },
  {
   "cell_type": "markdown",
   "id": "028b4d7e-bf10-4ef4-bd05-29560a725fe6",
   "metadata": {},
   "source": [
    "## Google Cloud Storageバケットの作成\n",
    "以下のBUCKETの値を使用可能なGSCバケット名に変更して進めてください。 使用できるバケットがない場合は、以下の二行目のコマンドをコメントアウトし、gsutil mbコマンドを実行して作成してください。"
   ]
  },
  {
   "cell_type": "code",
   "execution_count": 4,
   "id": "64126350-4099-4bf3-b4fc-09b81652b0a7",
   "metadata": {},
   "outputs": [
    {
     "name": "stdout",
     "output_type": "stream",
     "text": [
      "Creating gs://takumi-posenet-demo-51/...\n"
     ]
    }
   ],
   "source": [
    "BUCKET='BUCKET_NAME' # Specify your GCS bucket name\n",
    "!gsutil mb -l us-central1 -p {PROJECT} gs://{BUCKET} "
   ]
  },
  {
   "cell_type": "markdown",
   "id": "06976c1a-03bb-4812-bd8f-08ee196cdae3",
   "metadata": {},
   "source": [
    "## ファイルをGCSへアップロードして公開\n",
    "作成したバケットに、HTMLと画像ファイルをアップロードし、パブリックにします。"
   ]
  },
  {
   "cell_type": "code",
   "execution_count": 5,
   "id": "285ab971-4d5c-413e-9ece-e4fbca1babf6",
   "metadata": {},
   "outputs": [
    {
     "name": "stdout",
     "output_type": "stream",
     "text": [
      "Copying file://./11b_posenet/posenet.html [Content-Type=text/html]...\n",
      "/ [1 files][  3.0 KiB/  3.0 KiB]                                                \n",
      "Operation completed over 1 objects/3.0 KiB.                                      \n",
      "Copying file://./11b_posenet/bowling.jpg [Content-Type=image/jpeg]...\n",
      "/ [1 files][ 84.2 KiB/ 84.2 KiB]                                                \n",
      "Operation completed over 1 objects/84.2 KiB.                                     \n"
     ]
    }
   ],
   "source": [
    "!gsutil cp ./11b_posenet/posenet.html gs://{BUCKET}/posenet_demo/\n",
    "!gsutil cp ./11b_posenet/bowling.jpg gs://{BUCKET}/posenet_demo/"
   ]
  },
  {
   "cell_type": "code",
   "execution_count": null,
   "id": "55cb8cfd-3d79-4ade-bc26-8525789a9198",
   "metadata": {},
   "outputs": [],
   "source": [
    "!gsutil acl ch -u AllUsers:R gs://{BUCKET}/posenet_demo/bowling.jpg\n",
    "!gsutil acl ch -u AllUsers:R gs://{BUCKET}/posenet_demo/posenet.html"
   ]
  },
  {
   "cell_type": "markdown",
   "id": "7e29f65d-850b-4582-a81c-735a4fcb4ac7",
   "metadata": {},
   "source": [
    "## アクセス\n",
    "以下のセルから出力されるURLにアクセスし、結果を確認してください。Posenetの実行には2~3秒かかります。"
   ]
  },
  {
   "cell_type": "code",
   "execution_count": null,
   "id": "2956fbf4-f08a-4487-8cd1-2b395d21e56d",
   "metadata": {},
   "outputs": [],
   "source": [
    "!echo http://{BUCKET}.storage.googleapis.com/posenet_demo/posenet.html"
   ]
  },
  {
   "cell_type": "markdown",
   "id": "2f414bc3-38d5-4b6b-8440-21946a9284ef",
   "metadata": {},
   "source": [
    "結果が確認できましたか？\n",
    "\n",
    "同様に、公式のデモもパブリックのGCSで公開されています。<br>\n",
    "アクセスして動画での挙動を確認してみてましょう。\n",
    "\n",
    "PoseNet Demo: https://storage.googleapis.com/tfjs-models/demos/pose-detection/index.html?model=posenet"
   ]
  },
  {
   "cell_type": "markdown",
   "id": "d5435033-e7c5-4481-b8c4-e556265c37b0",
   "metadata": {},
   "source": [
    "## クリーンアップ\n",
    "作成したバケットを削除します。"
   ]
  },
  {
   "cell_type": "code",
   "execution_count": null,
   "id": "3341c988-6fe0-4e74-9cfe-657970fb333f",
   "metadata": {},
   "outputs": [],
   "source": [
    "!gsutil rm -r gs://{BUCKET}"
   ]
  },
  {
   "cell_type": "code",
   "execution_count": null,
   "id": "1d1f4860-2549-4d78-918b-b4643d384daa",
   "metadata": {},
   "outputs": [],
   "source": []
  },
  {
   "cell_type": "code",
   "execution_count": null,
   "id": "2e9a9ce2-7cfa-4060-b747-ba6af0a72a96",
   "metadata": {},
   "outputs": [],
   "source": []
  }
 ],
 "metadata": {
  "environment": {
   "kernel": "python3",
   "name": "tf2-cpu.2-8.m91",
   "type": "gcloud",
   "uri": "gcr.io/deeplearning-platform-release/tf2-cpu.2-8:m91"
  },
  "kernelspec": {
   "display_name": "Python 3",
   "language": "python",
   "name": "python3"
  },
  "language_info": {
   "codemirror_mode": {
    "name": "ipython",
    "version": 3
   },
   "file_extension": ".py",
   "mimetype": "text/x-python",
   "name": "python",
   "nbconvert_exporter": "python",
   "pygments_lexer": "ipython3",
   "version": "3.7.12"
  }
 },
 "nbformat": 4,
 "nbformat_minor": 5
}
